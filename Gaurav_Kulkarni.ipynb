{
  "nbformat": 4,
  "nbformat_minor": 0,
  "metadata": {
    "colab": {
      "provenance": []
    },
    "kernelspec": {
      "name": "python3",
      "display_name": "Python 3"
    },
    "language_info": {
      "name": "python"
    }
  },
  "cells": [
    {
      "cell_type": "markdown",
      "source": [
        "**Movie Recommendation System**\n",
        "\n",
        "**Recommender System** is a system that seeks to predict or filter preferences according to the users choice. Recommender system are utilized in a variety of areas including movies,music,news,books,research article,search queries,social tags,and products in general.Recommender systems produce a list of recommendations in any of the two ways -\n",
        "\n",
        "**Collaborative filtering :** Collaborative filtering approaches build a model from the users past behaviour (i.e. items purchased or searched by the user)as well as similar decisions made by the other users. this model is then used to predict items(or ratings for itms)that users may have an intrest in.\n",
        "\n",
        "**Content-based filtering :** Content-based filtering approaches uses a series of discrete characteristics of an item in order to recommend additional items with similar properties. Content based filtering methods are totally based on the description of the items and a profile of the users preferences. it recommends items based on the users past preferences. Lets develop a basic recommendation system using Python and Pandas.\n",
        "\n",
        "Lets develop a basic recommendation system by suggesting items that are most similar to a particular items,in this case movies. it just tells what movies/items are most similar to the users movie choice."
      ],
      "metadata": {
        "id": "QMh9sngMvTld"
      }
    },
    {
      "cell_type": "code",
      "source": [
        "import pandas as pd\n",
        "from sklearn.metrics.pairwise import cosine_similarity\n",
        "from sklearn.preprocessing import StandardScaler\n",
        "\n",
        "# Sample movie data\n",
        "movies_data = {\n",
        "    'MovieID': [1, 2, 3, 4, 5],\n",
        "    'Title': ['Movie A', 'Movie B', 'Movie C', 'Movie D', 'Movie E'],\n",
        "    'Genre': ['Action', 'Comedy', 'Drama', 'Action', 'Comedy'],\n",
        "    'Rating': [5, 4, 3, 5, 4],\n",
        "}\n",
        "\n",
        "movies_df = pd.DataFrame(movies_data)\n",
        "\n",
        "# Sample user ratings\n",
        "user_ratings = {\n",
        "    'MovieID': [1, 2, 3],\n",
        "    'Rating': [4, 5, 3],\n",
        "}\n",
        "\n",
        "user_ratings_df = pd.DataFrame(user_ratings)\n",
        "\n",
        "# Merge user ratings with movie data\n",
        "merged_data = pd.merge(user_ratings_df, movies_df, on='MovieID')\n",
        "\n",
        "# Create a user-movie matrix\n",
        "user_movie_matrix = merged_data.pivot_table(index='MovieID', columns='Title', values='Rating', fill_value=0)\n",
        "\n",
        "# Standardize the user-movie matrix\n",
        "scaler = StandardScaler()\n",
        "scaled_user_movie_matrix = scaler.fit_transform(user_movie_matrix)\n",
        "\n",
        "# Calculate cosine similarity between movies\n",
        "movie_similarity = cosine_similarity(scaled_user_movie_matrix.T)\n",
        "\n",
        "# Recommend movies based on similarity\n",
        "def get_movie_recommendations(movie_title, n=2):\n",
        "    movie_index = movies_df.index[movies_df['Title'] == movie_title].tolist()[0]\n",
        "    similar_movies = list(enumerate(movie_similarity[movie_index]))\n",
        "    sorted_similar_movies = sorted(similar_movies, key=lambda x: x[1], reverse=True)[1:n+1]\n",
        "    recommended_movies = [movies_df.iloc[movie[0]]['Title'] for movie in sorted_similar_movies]\n",
        "    return recommended_movies\n",
        "\n",
        "# Example usage\n",
        "movie_title = 'Movie A'\n",
        "recommendations = get_movie_recommendations(movie_title)\n",
        "print(f\"Recommended movies for '{movie_title}': {recommendations}\")"
      ],
      "metadata": {
        "colab": {
          "base_uri": "https://localhost:8080/",
          "height": 373
        },
        "id": "gMUvmUn0vvSU",
        "outputId": "317c2ee8-9834-4b30-d6f3-242488c4277d"
      },
      "execution_count": 1,
      "outputs": [
        {
          "output_type": "error",
          "ename": "KeyError",
          "evalue": "'Rating'",
          "traceback": [
            "\u001b[0;31m---------------------------------------------------------------------------\u001b[0m",
            "\u001b[0;31mKeyError\u001b[0m                                  Traceback (most recent call last)",
            "\u001b[0;32m<ipython-input-1-66d100f8790b>\u001b[0m in \u001b[0;36m<cell line: 27>\u001b[0;34m()\u001b[0m\n\u001b[1;32m     25\u001b[0m \u001b[0;34m\u001b[0m\u001b[0m\n\u001b[1;32m     26\u001b[0m \u001b[0;31m# Create a user-movie matrix\u001b[0m\u001b[0;34m\u001b[0m\u001b[0;34m\u001b[0m\u001b[0m\n\u001b[0;32m---> 27\u001b[0;31m \u001b[0muser_movie_matrix\u001b[0m \u001b[0;34m=\u001b[0m \u001b[0mmerged_data\u001b[0m\u001b[0;34m.\u001b[0m\u001b[0mpivot_table\u001b[0m\u001b[0;34m(\u001b[0m\u001b[0mindex\u001b[0m\u001b[0;34m=\u001b[0m\u001b[0;34m'MovieID'\u001b[0m\u001b[0;34m,\u001b[0m \u001b[0mcolumns\u001b[0m\u001b[0;34m=\u001b[0m\u001b[0;34m'Title'\u001b[0m\u001b[0;34m,\u001b[0m \u001b[0mvalues\u001b[0m\u001b[0;34m=\u001b[0m\u001b[0;34m'Rating'\u001b[0m\u001b[0;34m,\u001b[0m \u001b[0mfill_value\u001b[0m\u001b[0;34m=\u001b[0m\u001b[0;36m0\u001b[0m\u001b[0;34m)\u001b[0m\u001b[0;34m\u001b[0m\u001b[0;34m\u001b[0m\u001b[0m\n\u001b[0m\u001b[1;32m     28\u001b[0m \u001b[0;34m\u001b[0m\u001b[0m\n\u001b[1;32m     29\u001b[0m \u001b[0;31m# Standardize the user-movie matrix\u001b[0m\u001b[0;34m\u001b[0m\u001b[0;34m\u001b[0m\u001b[0m\n",
            "\u001b[0;32m/usr/local/lib/python3.10/dist-packages/pandas/core/frame.py\u001b[0m in \u001b[0;36mpivot_table\u001b[0;34m(self, values, index, columns, aggfunc, fill_value, margins, dropna, margins_name, observed, sort)\u001b[0m\n\u001b[1;32m   8729\u001b[0m         \u001b[0;32mfrom\u001b[0m \u001b[0mpandas\u001b[0m\u001b[0;34m.\u001b[0m\u001b[0mcore\u001b[0m\u001b[0;34m.\u001b[0m\u001b[0mreshape\u001b[0m\u001b[0;34m.\u001b[0m\u001b[0mpivot\u001b[0m \u001b[0;32mimport\u001b[0m \u001b[0mpivot_table\u001b[0m\u001b[0;34m\u001b[0m\u001b[0;34m\u001b[0m\u001b[0m\n\u001b[1;32m   8730\u001b[0m \u001b[0;34m\u001b[0m\u001b[0m\n\u001b[0;32m-> 8731\u001b[0;31m         return pivot_table(\n\u001b[0m\u001b[1;32m   8732\u001b[0m             \u001b[0mself\u001b[0m\u001b[0;34m,\u001b[0m\u001b[0;34m\u001b[0m\u001b[0;34m\u001b[0m\u001b[0m\n\u001b[1;32m   8733\u001b[0m             \u001b[0mvalues\u001b[0m\u001b[0;34m=\u001b[0m\u001b[0mvalues\u001b[0m\u001b[0;34m,\u001b[0m\u001b[0;34m\u001b[0m\u001b[0;34m\u001b[0m\u001b[0m\n",
            "\u001b[0;32m/usr/local/lib/python3.10/dist-packages/pandas/core/reshape/pivot.py\u001b[0m in \u001b[0;36mpivot_table\u001b[0;34m(data, values, index, columns, aggfunc, fill_value, margins, dropna, margins_name, observed, sort)\u001b[0m\n\u001b[1;32m     95\u001b[0m         \u001b[0;32mreturn\u001b[0m \u001b[0mtable\u001b[0m\u001b[0;34m.\u001b[0m\u001b[0m__finalize__\u001b[0m\u001b[0;34m(\u001b[0m\u001b[0mdata\u001b[0m\u001b[0;34m,\u001b[0m \u001b[0mmethod\u001b[0m\u001b[0;34m=\u001b[0m\u001b[0;34m\"pivot_table\"\u001b[0m\u001b[0;34m)\u001b[0m\u001b[0;34m\u001b[0m\u001b[0;34m\u001b[0m\u001b[0m\n\u001b[1;32m     96\u001b[0m \u001b[0;34m\u001b[0m\u001b[0m\n\u001b[0;32m---> 97\u001b[0;31m     table = __internal_pivot_table(\n\u001b[0m\u001b[1;32m     98\u001b[0m         \u001b[0mdata\u001b[0m\u001b[0;34m,\u001b[0m\u001b[0;34m\u001b[0m\u001b[0;34m\u001b[0m\u001b[0m\n\u001b[1;32m     99\u001b[0m         \u001b[0mvalues\u001b[0m\u001b[0;34m,\u001b[0m\u001b[0;34m\u001b[0m\u001b[0;34m\u001b[0m\u001b[0m\n",
            "\u001b[0;32m/usr/local/lib/python3.10/dist-packages/pandas/core/reshape/pivot.py\u001b[0m in \u001b[0;36m__internal_pivot_table\u001b[0;34m(data, values, index, columns, aggfunc, fill_value, margins, dropna, margins_name, observed, sort)\u001b[0m\n\u001b[1;32m    141\u001b[0m         \u001b[0;32mfor\u001b[0m \u001b[0mi\u001b[0m \u001b[0;32min\u001b[0m \u001b[0mvalues\u001b[0m\u001b[0;34m:\u001b[0m\u001b[0;34m\u001b[0m\u001b[0;34m\u001b[0m\u001b[0m\n\u001b[1;32m    142\u001b[0m             \u001b[0;32mif\u001b[0m \u001b[0mi\u001b[0m \u001b[0;32mnot\u001b[0m \u001b[0;32min\u001b[0m \u001b[0mdata\u001b[0m\u001b[0;34m:\u001b[0m\u001b[0;34m\u001b[0m\u001b[0;34m\u001b[0m\u001b[0m\n\u001b[0;32m--> 143\u001b[0;31m                 \u001b[0;32mraise\u001b[0m \u001b[0mKeyError\u001b[0m\u001b[0;34m(\u001b[0m\u001b[0mi\u001b[0m\u001b[0;34m)\u001b[0m\u001b[0;34m\u001b[0m\u001b[0;34m\u001b[0m\u001b[0m\n\u001b[0m\u001b[1;32m    144\u001b[0m \u001b[0;34m\u001b[0m\u001b[0m\n\u001b[1;32m    145\u001b[0m         \u001b[0mto_filter\u001b[0m \u001b[0;34m=\u001b[0m \u001b[0;34m[\u001b[0m\u001b[0;34m]\u001b[0m\u001b[0;34m\u001b[0m\u001b[0;34m\u001b[0m\u001b[0m\n",
            "\u001b[0;31mKeyError\u001b[0m: 'Rating'"
          ]
        }
      ]
    }
  ]
}